{
 "cells": [
  {
   "cell_type": "code",
   "execution_count": 21,
   "metadata": {},
   "outputs": [],
   "source": [
    "import pandas as pd\n",
    "import matplotlib.pyplot as plt\n",
    "from pathlib import Path\n",
    "import seaborn as sns"
   ]
  },
  {
   "cell_type": "code",
   "execution_count": 22,
   "metadata": {},
   "outputs": [
    {
     "name": "stdout",
     "output_type": "stream",
     "text": [
      "998720 rows\n"
     ]
    }
   ],
   "source": [
    "data = pd.read_csv('../data/2024-08-21-combined.csv')\n",
    "print(f'{len(data)} rows')"
   ]
  },
  {
   "cell_type": "markdown",
   "metadata": {},
   "source": [
    "## Histograms"
   ]
  },
  {
   "cell_type": "code",
   "execution_count": 43,
   "metadata": {},
   "outputs": [
    {
     "name": "stdout",
     "output_type": "stream",
     "text": [
      "299616 rows\n"
     ]
    }
   ],
   "source": [
    "filtered_data = data[\n",
    "    (data[\"Injection location\"] == 'DV3') &\n",
    "    (data[\"Injection pressure (mmHg)\"] == 4)\n",
    "    # (data[\"Blood pressure hypotension\"] == 'profound') &\n",
    "    # (data[\"CVP pressure\"] == 'elevated') \n",
    "    # (1 == 1)  # Ignore\n",
    "]\n",
    "\n",
    "print(f'{len(filtered_data)} rows')"
   ]
  }
 ],
 "metadata": {
  "kernelspec": {
   "display_name": ".venv",
   "language": "python",
   "name": "python3"
  },
  "language_info": {
   "codemirror_mode": {
    "name": "ipython",
    "version": 3
   },
   "file_extension": ".py",
   "mimetype": "text/x-python",
   "name": "python",
   "nbconvert_exporter": "python",
   "pygments_lexer": "ipython3",
   "version": "3.12.4"
  }
 },
 "nbformat": 4,
 "nbformat_minor": 2
}
